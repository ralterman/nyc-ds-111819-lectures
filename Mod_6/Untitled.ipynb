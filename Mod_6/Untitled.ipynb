{
 "cells": [
  {
   "cell_type": "code",
   "execution_count": 1,
   "metadata": {},
   "outputs": [],
   "source": [
    "def revrot(strng, sz):\n",
    "    if (sz <= 0) or (strng == '') or (sz > len(strng)):\n",
    "        return ''\n",
    "    else:\n",
    "        chunk_list = []\n",
    "        idx = 0\n",
    "        while idx < len(strng):\n",
    "            chunk = strng[idx:(idx+sz)]\n",
    "            chunk_list.append(chunk)\n",
    "            idx += sz\n",
    "        empty = []\n",
    "        for block in chunk_list:\n",
    "            sum = 0\n",
    "            for digit in block:\n",
    "                sum += int(digit)**3\n",
    "            if sum%2 == 0:\n",
    "                str = block[::-1]\n",
    "                empty.append(str)\n",
    "            else:\n",
    "                str = block[1:]+block[0]\n",
    "                empty.append(str)\n",
    "        final = ''.join(empty)\n",
    "        return final"
   ]
  },
  {
   "cell_type": "code",
   "execution_count": 3,
   "metadata": {},
   "outputs": [
    {
     "data": {
      "text/plain": [
       "'304731089981572476'"
      ]
     },
     "execution_count": 3,
     "metadata": {},
     "output_type": "execute_result"
    }
   ],
   "source": [
    "revrot('330479108928157647', 5)"
   ]
  },
  {
   "cell_type": "code",
   "execution_count": null,
   "metadata": {},
   "outputs": [],
   "source": []
  }
 ],
 "metadata": {
  "kernelspec": {
   "display_name": "Python 3",
   "language": "python",
   "name": "python3"
  },
  "language_info": {
   "codemirror_mode": {
    "name": "ipython",
    "version": 3
   },
   "file_extension": ".py",
   "mimetype": "text/x-python",
   "name": "python",
   "nbconvert_exporter": "python",
   "pygments_lexer": "ipython3",
   "version": "3.7.4"
  }
 },
 "nbformat": 4,
 "nbformat_minor": 2
}
